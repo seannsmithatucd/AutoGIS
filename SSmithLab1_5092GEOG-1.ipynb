{
 "cells": [
  {
   "cell_type": "code",
   "execution_count": 2,
   "id": "209f629f",
   "metadata": {
    "scrolled": true
   },
   "outputs": [
    {
     "name": "stdout",
     "output_type": "stream",
     "text": [
      "\n",
      "Note: you may need to restart the kernel to use updated packages.\n"
     ]
    }
   ],
   "source": [
    "conda deactivate"
   ]
  },
  {
   "cell_type": "code",
   "execution_count": 3,
   "id": "140ab204",
   "metadata": {
    "scrolled": true
   },
   "outputs": [
    {
     "name": "stdout",
     "output_type": "stream",
     "text": [
      "\n",
      "Note: you may need to restart the kernel to use updated packages.\n"
     ]
    }
   ],
   "source": [
    "conda activate geog2022"
   ]
  },
  {
   "cell_type": "code",
   "execution_count": 4,
   "id": "79a4257b",
   "metadata": {},
   "outputs": [],
   "source": [
    "#confirm environment -->"
   ]
  },
  {
   "cell_type": "code",
   "execution_count": 5,
   "id": "549e0b6b",
   "metadata": {},
   "outputs": [
    {
     "data": {
      "text/plain": [
       "'C:\\\\Users\\\\dukes\\\\5092GEOGpY\\\\Lab1py'"
      ]
     },
     "execution_count": 5,
     "metadata": {},
     "output_type": "execute_result"
    }
   ],
   "source": [
    "pwd"
   ]
  },
  {
   "cell_type": "code",
   "execution_count": 6,
   "id": "9eb251d5",
   "metadata": {},
   "outputs": [],
   "source": [
    "#ensure lab1.gpkg is in c:\\week2\n",
    "#if \"pwd\" \"Out[]:\" does not = 'C:\\\\week2' -->\n",
    "#change directory to c:\\week2"
   ]
  },
  {
   "cell_type": "code",
   "execution_count": 7,
   "id": "e7f0fc35",
   "metadata": {},
   "outputs": [
    {
     "name": "stdout",
     "output_type": "stream",
     "text": [
      "C:\\Users\\dukes\\5092GEOGpY\n"
     ]
    }
   ],
   "source": [
    "cd .."
   ]
  },
  {
   "cell_type": "code",
   "execution_count": 8,
   "id": "db4d7866",
   "metadata": {},
   "outputs": [
    {
     "name": "stdout",
     "output_type": "stream",
     "text": [
      "C:\\Users\\dukes\n"
     ]
    }
   ],
   "source": [
    "cd .."
   ]
  },
  {
   "cell_type": "code",
   "execution_count": 9,
   "id": "faa60f48",
   "metadata": {
    "scrolled": true
   },
   "outputs": [
    {
     "name": "stdout",
     "output_type": "stream",
     "text": [
      "C:\\week2\n"
     ]
    }
   ],
   "source": [
    "cd \\week2"
   ]
  },
  {
   "cell_type": "code",
   "execution_count": 10,
   "id": "7dffe00e",
   "metadata": {},
   "outputs": [
    {
     "name": "stdout",
     "output_type": "stream",
     "text": [
      "C:\\Users\\dukes\\anaconda3\\envs\\geog2022v3\n"
     ]
    }
   ],
   "source": [
    "import sys\n",
    "print(sys.prefix)"
   ]
  },
  {
   "cell_type": "code",
   "execution_count": 11,
   "id": "541f8b7f",
   "metadata": {},
   "outputs": [],
   "source": [
    "#ensure environment is correct (geog2022v2)\n",
    "#if not then create, confirm, & activate\n",
    "#>conda create –n geog2022v2 python=3.7\n",
    "#>conda info --envs"
   ]
  },
  {
   "cell_type": "code",
   "execution_count": 12,
   "id": "165f60b0",
   "metadata": {},
   "outputs": [],
   "source": [
    "import fiona\n",
    "import pandas\n",
    "import geopandas"
   ]
  },
  {
   "cell_type": "code",
   "execution_count": 13,
   "id": "52c01a74",
   "metadata": {},
   "outputs": [],
   "source": [
    "#if import fails, simply run again"
   ]
  },
  {
   "cell_type": "code",
   "execution_count": 14,
   "id": "2679d8de",
   "metadata": {},
   "outputs": [],
   "source": [
    "import pandas\n",
    "import fiona\n",
    "import geopandas as gpd"
   ]
  },
  {
   "cell_type": "code",
   "execution_count": 15,
   "id": "292e5b9b",
   "metadata": {},
   "outputs": [],
   "source": [
    "#for diagnostics:\n",
    "#>gpd.read_file(r'C:\\week2\\lab1.gpkg')"
   ]
  },
  {
   "cell_type": "code",
   "execution_count": 16,
   "id": "09560da4",
   "metadata": {},
   "outputs": [],
   "source": [
    "layers = fiona.listlayers('C:\\week2\\lab1.gpkg')\n",
    "my_features=layers[0:9]\n",
    "my_tables=layers[10:]"
   ]
  },
  {
   "cell_type": "code",
   "execution_count": 4,
   "id": "487748ee",
   "metadata": {},
   "outputs": [
    {
     "data": {
      "text/html": [
       "<div>\n",
       "<style scoped>\n",
       "    .dataframe tbody tr th:only-of-type {\n",
       "        vertical-align: middle;\n",
       "    }\n",
       "\n",
       "    .dataframe tbody tr th {\n",
       "        vertical-align: top;\n",
       "    }\n",
       "\n",
       "    .dataframe thead th {\n",
       "        text-align: right;\n",
       "    }\n",
       "</style>\n",
       "<table border=\"1\" class=\"dataframe\">\n",
       "  <thead>\n",
       "    <tr style=\"text-align: right;\">\n",
       "      <th></th>\n",
       "      <th>SPATIALVER</th>\n",
       "      <th>MUSYM</th>\n",
       "      <th>MUKEY</th>\n",
       "      <th>Shape_Length</th>\n",
       "      <th>Shape_Area</th>\n",
       "      <th>geometry</th>\n",
       "    </tr>\n",
       "  </thead>\n",
       "  <tbody>\n",
       "    <tr>\n",
       "      <th>0</th>\n",
       "      <td>4.0</td>\n",
       "      <td>AaB</td>\n",
       "      <td>94035</td>\n",
       "      <td>0.010144</td>\n",
       "      <td>0.000004</td>\n",
       "      <td>MULTIPOLYGON (((-104.42220 39.93400, -104.4248...</td>\n",
       "    </tr>\n",
       "    <tr>\n",
       "      <th>1</th>\n",
       "      <td>4.0</td>\n",
       "      <td>CgE</td>\n",
       "      <td>94049</td>\n",
       "      <td>0.011425</td>\n",
       "      <td>0.000006</td>\n",
       "      <td>MULTIPOLYGON (((-103.93270 39.93600, -103.9333...</td>\n",
       "    </tr>\n",
       "    <tr>\n",
       "      <th>2</th>\n",
       "      <td>4.0</td>\n",
       "      <td>WrB</td>\n",
       "      <td>94100</td>\n",
       "      <td>0.072863</td>\n",
       "      <td>0.000153</td>\n",
       "      <td>MULTIPOLYGON (((-104.02990 39.91200, -104.0319...</td>\n",
       "    </tr>\n",
       "    <tr>\n",
       "      <th>3</th>\n",
       "      <td>4.0</td>\n",
       "      <td>VnD</td>\n",
       "      <td>94091</td>\n",
       "      <td>0.064574</td>\n",
       "      <td>0.000127</td>\n",
       "      <td>MULTIPOLYGON (((-104.00890 39.84220, -104.0073...</td>\n",
       "    </tr>\n",
       "    <tr>\n",
       "      <th>4</th>\n",
       "      <td>4.0</td>\n",
       "      <td>Lu</td>\n",
       "      <td>94057</td>\n",
       "      <td>0.054684</td>\n",
       "      <td>0.000068</td>\n",
       "      <td>MULTIPOLYGON (((-104.39550 39.99090, -104.3954...</td>\n",
       "    </tr>\n",
       "    <tr>\n",
       "      <th>...</th>\n",
       "      <td>...</td>\n",
       "      <td>...</td>\n",
       "      <td>...</td>\n",
       "      <td>...</td>\n",
       "      <td>...</td>\n",
       "      <td>...</td>\n",
       "    </tr>\n",
       "    <tr>\n",
       "      <th>2637</th>\n",
       "      <td>4.0</td>\n",
       "      <td>TtD</td>\n",
       "      <td>94084</td>\n",
       "      <td>0.014080</td>\n",
       "      <td>0.000011</td>\n",
       "      <td>MULTIPOLYGON (((-104.71390 39.76900, -104.7175...</td>\n",
       "    </tr>\n",
       "    <tr>\n",
       "      <th>2638</th>\n",
       "      <td>4.0</td>\n",
       "      <td>AcD</td>\n",
       "      <td>94038</td>\n",
       "      <td>0.023471</td>\n",
       "      <td>0.000027</td>\n",
       "      <td>MULTIPOLYGON (((-104.65500 39.76110, -104.6577...</td>\n",
       "    </tr>\n",
       "    <tr>\n",
       "      <th>2639</th>\n",
       "      <td>4.0</td>\n",
       "      <td>AaB</td>\n",
       "      <td>94035</td>\n",
       "      <td>0.029391</td>\n",
       "      <td>0.000044</td>\n",
       "      <td>MULTIPOLYGON (((-104.27030 39.76070, -104.2739...</td>\n",
       "    </tr>\n",
       "    <tr>\n",
       "      <th>2640</th>\n",
       "      <td>4.0</td>\n",
       "      <td>ReD</td>\n",
       "      <td>94068</td>\n",
       "      <td>0.014284</td>\n",
       "      <td>0.000009</td>\n",
       "      <td>MULTIPOLYGON (((-104.25390 39.83580, -104.2580...</td>\n",
       "    </tr>\n",
       "    <tr>\n",
       "      <th>2641</th>\n",
       "      <td>4.0</td>\n",
       "      <td>AaB</td>\n",
       "      <td>94035</td>\n",
       "      <td>0.027831</td>\n",
       "      <td>0.000031</td>\n",
       "      <td>MULTIPOLYGON (((-104.25290 39.83120, -104.2505...</td>\n",
       "    </tr>\n",
       "  </tbody>\n",
       "</table>\n",
       "<p>2642 rows × 6 columns</p>\n",
       "</div>"
      ],
      "text/plain": [
       "      SPATIALVER MUSYM  MUKEY  Shape_Length  Shape_Area  \\\n",
       "0            4.0   AaB  94035      0.010144    0.000004   \n",
       "1            4.0   CgE  94049      0.011425    0.000006   \n",
       "2            4.0   WrB  94100      0.072863    0.000153   \n",
       "3            4.0   VnD  94091      0.064574    0.000127   \n",
       "4            4.0    Lu  94057      0.054684    0.000068   \n",
       "...          ...   ...    ...           ...         ...   \n",
       "2637         4.0   TtD  94084      0.014080    0.000011   \n",
       "2638         4.0   AcD  94038      0.023471    0.000027   \n",
       "2639         4.0   AaB  94035      0.029391    0.000044   \n",
       "2640         4.0   ReD  94068      0.014284    0.000009   \n",
       "2641         4.0   AaB  94035      0.027831    0.000031   \n",
       "\n",
       "                                               geometry  \n",
       "0     MULTIPOLYGON (((-104.42220 39.93400, -104.4248...  \n",
       "1     MULTIPOLYGON (((-103.93270 39.93600, -103.9333...  \n",
       "2     MULTIPOLYGON (((-104.02990 39.91200, -104.0319...  \n",
       "3     MULTIPOLYGON (((-104.00890 39.84220, -104.0073...  \n",
       "4     MULTIPOLYGON (((-104.39550 39.99090, -104.3954...  \n",
       "...                                                 ...  \n",
       "2637  MULTIPOLYGON (((-104.71390 39.76900, -104.7175...  \n",
       "2638  MULTIPOLYGON (((-104.65500 39.76110, -104.6577...  \n",
       "2639  MULTIPOLYGON (((-104.27030 39.76070, -104.2739...  \n",
       "2640  MULTIPOLYGON (((-104.25390 39.83580, -104.2580...  \n",
       "2641  MULTIPOLYGON (((-104.25290 39.83120, -104.2505...  \n",
       "\n",
       "[2642 rows x 6 columns]"
      ]
     },
     "execution_count": 4,
     "metadata": {},
     "output_type": "execute_result"
    }
   ],
   "source": [
    "geopandas.read_file(r'C:\\week2\\lab1.gpkg')"
   ]
  },
  {
   "cell_type": "code",
   "execution_count": 17,
   "id": "edb15bed",
   "metadata": {},
   "outputs": [
    {
     "data": {
      "text/plain": [
       "['soilmu_a_co001',\n",
       " 'soilmu_a_co618',\n",
       " 'soilmu_a_co641',\n",
       " 'soilmu_a_co642',\n",
       " 'soilmu_a_co643',\n",
       " 'soilmu_a_co644',\n",
       " 'soilmu_a_co645',\n",
       " 'soilmu_a_co651',\n",
       " 'soilmu_a_co653',\n",
       " 'wbdhu8_lab1',\n",
       " 'muaggatt_co001',\n",
       " 'muaggatt_co618',\n",
       " 'muaggatt_co641',\n",
       " 'muaggatt_co642',\n",
       " 'muaggatt_co643',\n",
       " 'muaggatt_co644',\n",
       " 'muaggatt_co645',\n",
       " 'muaggatt_co651',\n",
       " 'muaggatt_co653']"
      ]
     },
     "execution_count": 17,
     "metadata": {},
     "output_type": "execute_result"
    }
   ],
   "source": [
    "layers"
   ]
  },
  {
   "cell_type": "code",
   "execution_count": 18,
   "id": "b96f46f8",
   "metadata": {},
   "outputs": [],
   "source": [
    "layers = fiona.listlayers('C:\\week2\\lab1.gpkg')"
   ]
  },
  {
   "cell_type": "code",
   "execution_count": 19,
   "id": "1875700e",
   "metadata": {},
   "outputs": [],
   "source": [
    "my_features = [] \n",
    "my_tables = []\n",
    "\n",
    "for layer_name in layers:\n",
    "    if layer_name.startswith('soilmu'):\n",
    "        my_features.append(layer_name)\n",
    "\n",
    "for layer_name in layers:\n",
    "    if layer_name.startswith('muaggatt'):\n",
    "        my_tables.append(layer_name)\n",
    "\n",
    "#>my_tables, my_features"
   ]
  },
  {
   "cell_type": "code",
   "execution_count": 20,
   "id": "021969bf",
   "metadata": {},
   "outputs": [],
   "source": [
    "for my_features_layer in my_features:\n",
    "    my_features_data=gpd.read_file('C:\\week2\\lab1.gpkg', layer=my_features_layer)\n",
    "    #print(my_features_data)\n",
    "    #print('---------------------------------------------------------------')"
   ]
  },
  {
   "cell_type": "code",
   "execution_count": 21,
   "id": "9f6d06bb",
   "metadata": {},
   "outputs": [],
   "source": [
    "features = [] \n",
    "for my_features_layer in my_features:\n",
    "    my_features_data=gpd.read_file('C:\\week2\\lab1.gpkg', layer=my_features_layer)\n",
    "    features.append(my_features_data)\n",
    "#print(features)\n",
    "#print(\"------------------------------------------------------------\")\n",
    "#print(\"------------------------------------------------------------\")\n",
    "tables = [] \n",
    "for my_tables_layer in my_tables:\n",
    "    my_tables_data=gpd.read_file('C:\\week2\\lab1.gpkg', layer=my_tables_layer)\n",
    "    tables.append(my_tables_data)\n",
    "\n",
    "#print(tables)\n",
    "#print(\"------------------------------------------------------------\")"
   ]
  },
  {
   "cell_type": "code",
   "execution_count": 22,
   "id": "a3f8135f",
   "metadata": {},
   "outputs": [],
   "source": [
    "#use loop-while to merge features with its coresponding table\n",
    "i=0\n",
    "while i<len(tables):\n",
    "    musym=tables[i].musym\n",
    "    features[i].MUSYM=musym\n",
    "    df=pandas.merge(features[i],tables[i],how='outer')\n",
    "    #print(df)\n",
    "    #print('*******************************************************************')\n",
    "    i+=1"
   ]
  },
  {
   "cell_type": "code",
   "execution_count": 23,
   "id": "ce8e06a6",
   "metadata": {},
   "outputs": [],
   "source": [
    "#append \"mapunit\" to the original features\n",
    "for new_features in features:\n",
    "    mapunit={\"mapunit\":[]}\n",
    "    new_features=new_features.append(mapunit,ignore_index=True)\n",
    "    #print(new_features)\n",
    "    #print('+++++++++++++++++++++++++++++++++++++++++++++++++++++')"
   ]
  },
  {
   "cell_type": "code",
   "execution_count": 24,
   "id": "b8fd96b3",
   "metadata": {},
   "outputs": [],
   "source": [
    "# append 'mapunit' column of the merged features-tables layers (1st part of question2)\n",
    "i=0\n",
    "while i<len(tables):\n",
    "    #merge first \n",
    "    musym=tables[i].musym\n",
    "    features[i].MUSYM=musym\n",
    "    df=pandas.merge(features[i],tables[i],how='outer')\n",
    "    #then append\n",
    "    df_append=df.append(mapunit,ignore_index=True)\n",
    "    #print(df_append)\n",
    "    #print('*******************************************************************')\n",
    "    i+=1"
   ]
  },
  {
   "cell_type": "code",
   "execution_count": 25,
   "id": "ca82c4b1",
   "metadata": {},
   "outputs": [],
   "source": [
    "#append \"mapunit\" to the original features，and valuate the name to mapunit\n",
    "i=0\n",
    "for new_features in features:\n",
    "    new_features=new_features.append(mapunit,ignore_index=True)\n",
    "    names=['co001','co618','co641','co642','co643','co644','co645','co651','co653']\n",
    "    new_features[\"mapunit\"]=names[i]\n",
    "    i+=1\n",
    "\n",
    "    #print(new_features)\n",
    "    #print('+++++++++++++++++++++++++++++++++++++++++++++++++++++')\n",
    "    \n",
    "    #part1 = new_features.assign(mapunit='co642')"
   ]
  },
  {
   "cell_type": "code",
   "execution_count": 26,
   "id": "2a580be4",
   "metadata": {},
   "outputs": [],
   "source": [
    "from shapely import geometry"
   ]
  },
  {
   "cell_type": "code",
   "execution_count": 27,
   "id": "b9b5002d",
   "metadata": {},
   "outputs": [],
   "source": [
    "#concat for the all unjoined features, question 3）\n",
    "features_all=pandas.concat(features)\n",
    "#features_all"
   ]
  },
  {
   "cell_type": "code",
   "execution_count": 28,
   "id": "35462901",
   "metadata": {},
   "outputs": [],
   "source": [
    "#features_all['geometry']"
   ]
  },
  {
   "cell_type": "code",
   "execution_count": 29,
   "id": "df99d0de",
   "metadata": {},
   "outputs": [],
   "source": [
    "watershed_data= gpd.read_file('C:\\week2\\lab1.gpkg', layer='wbdhu8_lab1')\n",
    "#watershed_data"
   ]
  },
  {
   "cell_type": "code",
   "execution_count": 30,
   "id": "dc969523",
   "metadata": {},
   "outputs": [],
   "source": [
    "newdf=gpd.overlay(features_all,watershed_data, how='intersection')"
   ]
  },
  {
   "cell_type": "code",
   "execution_count": 31,
   "id": "544abfea",
   "metadata": {},
   "outputs": [
    {
     "data": {
      "text/html": [
       "<div>\n",
       "<style scoped>\n",
       "    .dataframe tbody tr th:only-of-type {\n",
       "        vertical-align: middle;\n",
       "    }\n",
       "\n",
       "    .dataframe tbody tr th {\n",
       "        vertical-align: top;\n",
       "    }\n",
       "\n",
       "    .dataframe thead th {\n",
       "        text-align: right;\n",
       "    }\n",
       "</style>\n",
       "<table border=\"1\" class=\"dataframe\">\n",
       "  <thead>\n",
       "    <tr style=\"text-align: right;\">\n",
       "      <th></th>\n",
       "      <th>SPATIALVER</th>\n",
       "      <th>MUSYM</th>\n",
       "      <th>MUKEY</th>\n",
       "      <th>Shape_Length_1</th>\n",
       "      <th>Shape_Area_1</th>\n",
       "      <th>STATES</th>\n",
       "      <th>NAME</th>\n",
       "      <th>Shape_Length_2</th>\n",
       "      <th>Shape_Area_2</th>\n",
       "      <th>HUC8</th>\n",
       "      <th>geometry</th>\n",
       "    </tr>\n",
       "  </thead>\n",
       "  <tbody>\n",
       "    <tr>\n",
       "      <th>2073</th>\n",
       "      <td>3.0</td>\n",
       "      <td>84</td>\n",
       "      <td>95211</td>\n",
       "      <td>0.047302</td>\n",
       "      <td>0.000097</td>\n",
       "      <td>CO</td>\n",
       "      <td>Big Thompson</td>\n",
       "      <td>2.734573</td>\n",
       "      <td>0.228711</td>\n",
       "      <td>10190006</td>\n",
       "      <td>POLYGON ((-104.82380 40.34590, -104.82720 40.3...</td>\n",
       "    </tr>\n",
       "    <tr>\n",
       "      <th>2074</th>\n",
       "      <td>3.0</td>\n",
       "      <td>14</td>\n",
       "      <td>95221</td>\n",
       "      <td>0.062364</td>\n",
       "      <td>0.000115</td>\n",
       "      <td>CO</td>\n",
       "      <td>Big Thompson</td>\n",
       "      <td>2.734573</td>\n",
       "      <td>0.228711</td>\n",
       "      <td>10190006</td>\n",
       "      <td>MULTIPOLYGON (((-104.98850 40.32300, -104.9860...</td>\n",
       "    </tr>\n",
       "    <tr>\n",
       "      <th>2075</th>\n",
       "      <td>3.0</td>\n",
       "      <td>15</td>\n",
       "      <td>95247</td>\n",
       "      <td>0.027427</td>\n",
       "      <td>0.000019</td>\n",
       "      <td>CO</td>\n",
       "      <td>Big Thompson</td>\n",
       "      <td>2.734573</td>\n",
       "      <td>0.228711</td>\n",
       "      <td>10190006</td>\n",
       "      <td>MULTIPOLYGON (((-105.00670 40.28280, -105.0098...</td>\n",
       "    </tr>\n",
       "    <tr>\n",
       "      <th>2076</th>\n",
       "      <td>3.0</td>\n",
       "      <td>17</td>\n",
       "      <td>95267</td>\n",
       "      <td>0.019859</td>\n",
       "      <td>0.000025</td>\n",
       "      <td>CO</td>\n",
       "      <td>Big Thompson</td>\n",
       "      <td>2.734573</td>\n",
       "      <td>0.228711</td>\n",
       "      <td>10190006</td>\n",
       "      <td>POLYGON ((-104.98400 40.27090, -104.98810 40.2...</td>\n",
       "    </tr>\n",
       "    <tr>\n",
       "      <th>2077</th>\n",
       "      <td>3.0</td>\n",
       "      <td>2</td>\n",
       "      <td>95193</td>\n",
       "      <td>0.025070</td>\n",
       "      <td>0.000029</td>\n",
       "      <td>CO</td>\n",
       "      <td>Big Thompson</td>\n",
       "      <td>2.734573</td>\n",
       "      <td>0.228711</td>\n",
       "      <td>10190006</td>\n",
       "      <td>POLYGON ((-105.00070 40.33880, -105.00470 40.3...</td>\n",
       "    </tr>\n",
       "    <tr>\n",
       "      <th>...</th>\n",
       "      <td>...</td>\n",
       "      <td>...</td>\n",
       "      <td>...</td>\n",
       "      <td>...</td>\n",
       "      <td>...</td>\n",
       "      <td>...</td>\n",
       "      <td>...</td>\n",
       "      <td>...</td>\n",
       "      <td>...</td>\n",
       "      <td>...</td>\n",
       "      <td>...</td>\n",
       "    </tr>\n",
       "    <tr>\n",
       "      <th>4047</th>\n",
       "      <td>3.0</td>\n",
       "      <td>None</td>\n",
       "      <td>506454</td>\n",
       "      <td>0.034502</td>\n",
       "      <td>0.000048</td>\n",
       "      <td>CO</td>\n",
       "      <td>Big Thompson</td>\n",
       "      <td>2.734573</td>\n",
       "      <td>0.228711</td>\n",
       "      <td>10190006</td>\n",
       "      <td>POLYGON ((-105.52690 40.46940, -105.52920 40.4...</td>\n",
       "    </tr>\n",
       "    <tr>\n",
       "      <th>4048</th>\n",
       "      <td>3.0</td>\n",
       "      <td>None</td>\n",
       "      <td>506438</td>\n",
       "      <td>0.018895</td>\n",
       "      <td>0.000024</td>\n",
       "      <td>CO</td>\n",
       "      <td>Big Thompson</td>\n",
       "      <td>2.734573</td>\n",
       "      <td>0.228711</td>\n",
       "      <td>10190006</td>\n",
       "      <td>POLYGON ((-105.65840 40.47670, -105.66059 40.4...</td>\n",
       "    </tr>\n",
       "    <tr>\n",
       "      <th>4049</th>\n",
       "      <td>3.0</td>\n",
       "      <td>None</td>\n",
       "      <td>506436</td>\n",
       "      <td>0.162516</td>\n",
       "      <td>0.000428</td>\n",
       "      <td>CO</td>\n",
       "      <td>Big Thompson</td>\n",
       "      <td>2.734573</td>\n",
       "      <td>0.228711</td>\n",
       "      <td>10190006</td>\n",
       "      <td>MULTIPOLYGON (((-105.57570 40.46010, -105.5725...</td>\n",
       "    </tr>\n",
       "    <tr>\n",
       "      <th>4050</th>\n",
       "      <td>3.0</td>\n",
       "      <td>None</td>\n",
       "      <td>506440</td>\n",
       "      <td>0.032319</td>\n",
       "      <td>0.000054</td>\n",
       "      <td>CO</td>\n",
       "      <td>Big Thompson</td>\n",
       "      <td>2.734573</td>\n",
       "      <td>0.228711</td>\n",
       "      <td>10190006</td>\n",
       "      <td>POLYGON ((-105.62260 40.47970, -105.62490 40.4...</td>\n",
       "    </tr>\n",
       "    <tr>\n",
       "      <th>4051</th>\n",
       "      <td>3.0</td>\n",
       "      <td>None</td>\n",
       "      <td>506454</td>\n",
       "      <td>0.010648</td>\n",
       "      <td>0.000005</td>\n",
       "      <td>CO</td>\n",
       "      <td>Big Thompson</td>\n",
       "      <td>2.734573</td>\n",
       "      <td>0.228711</td>\n",
       "      <td>10190006</td>\n",
       "      <td>POLYGON ((-105.51630 40.48490, -105.51940 40.4...</td>\n",
       "    </tr>\n",
       "  </tbody>\n",
       "</table>\n",
       "<p>1979 rows × 11 columns</p>\n",
       "</div>"
      ],
      "text/plain": [
       "      SPATIALVER MUSYM   MUKEY  Shape_Length_1  Shape_Area_1 STATES  \\\n",
       "2073         3.0    84   95211        0.047302      0.000097     CO   \n",
       "2074         3.0    14   95221        0.062364      0.000115     CO   \n",
       "2075         3.0    15   95247        0.027427      0.000019     CO   \n",
       "2076         3.0    17   95267        0.019859      0.000025     CO   \n",
       "2077         3.0     2   95193        0.025070      0.000029     CO   \n",
       "...          ...   ...     ...             ...           ...    ...   \n",
       "4047         3.0  None  506454        0.034502      0.000048     CO   \n",
       "4048         3.0  None  506438        0.018895      0.000024     CO   \n",
       "4049         3.0  None  506436        0.162516      0.000428     CO   \n",
       "4050         3.0  None  506440        0.032319      0.000054     CO   \n",
       "4051         3.0  None  506454        0.010648      0.000005     CO   \n",
       "\n",
       "              NAME  Shape_Length_2  Shape_Area_2      HUC8  \\\n",
       "2073  Big Thompson        2.734573      0.228711  10190006   \n",
       "2074  Big Thompson        2.734573      0.228711  10190006   \n",
       "2075  Big Thompson        2.734573      0.228711  10190006   \n",
       "2076  Big Thompson        2.734573      0.228711  10190006   \n",
       "2077  Big Thompson        2.734573      0.228711  10190006   \n",
       "...            ...             ...           ...       ...   \n",
       "4047  Big Thompson        2.734573      0.228711  10190006   \n",
       "4048  Big Thompson        2.734573      0.228711  10190006   \n",
       "4049  Big Thompson        2.734573      0.228711  10190006   \n",
       "4050  Big Thompson        2.734573      0.228711  10190006   \n",
       "4051  Big Thompson        2.734573      0.228711  10190006   \n",
       "\n",
       "                                               geometry  \n",
       "2073  POLYGON ((-104.82380 40.34590, -104.82720 40.3...  \n",
       "2074  MULTIPOLYGON (((-104.98850 40.32300, -104.9860...  \n",
       "2075  MULTIPOLYGON (((-105.00670 40.28280, -105.0098...  \n",
       "2076  POLYGON ((-104.98400 40.27090, -104.98810 40.2...  \n",
       "2077  POLYGON ((-105.00070 40.33880, -105.00470 40.3...  \n",
       "...                                                 ...  \n",
       "4047  POLYGON ((-105.52690 40.46940, -105.52920 40.4...  \n",
       "4048  POLYGON ((-105.65840 40.47670, -105.66059 40.4...  \n",
       "4049  MULTIPOLYGON (((-105.57570 40.46010, -105.5725...  \n",
       "4050  POLYGON ((-105.62260 40.47970, -105.62490 40.4...  \n",
       "4051  POLYGON ((-105.51630 40.48490, -105.51940 40.4...  \n",
       "\n",
       "[1979 rows x 11 columns]"
      ]
     },
     "execution_count": 31,
     "metadata": {},
     "output_type": "execute_result"
    }
   ],
   "source": [
    "H2O1=newdf[newdf.NAME == 'Big Thompson']\n",
    "H2O1"
   ]
  },
  {
   "cell_type": "code",
   "execution_count": 32,
   "id": "782b4ed6",
   "metadata": {},
   "outputs": [
    {
     "data": {
      "text/html": [
       "<div>\n",
       "<style scoped>\n",
       "    .dataframe tbody tr th:only-of-type {\n",
       "        vertical-align: middle;\n",
       "    }\n",
       "\n",
       "    .dataframe tbody tr th {\n",
       "        vertical-align: top;\n",
       "    }\n",
       "\n",
       "    .dataframe thead th {\n",
       "        text-align: right;\n",
       "    }\n",
       "</style>\n",
       "<table border=\"1\" class=\"dataframe\">\n",
       "  <thead>\n",
       "    <tr style=\"text-align: right;\">\n",
       "      <th></th>\n",
       "      <th>SPATIALVER</th>\n",
       "      <th>MUSYM</th>\n",
       "      <th>MUKEY</th>\n",
       "      <th>Shape_Length_1</th>\n",
       "      <th>Shape_Area_1</th>\n",
       "      <th>STATES</th>\n",
       "      <th>NAME</th>\n",
       "      <th>Shape_Length_2</th>\n",
       "      <th>Shape_Area_2</th>\n",
       "      <th>HUC8</th>\n",
       "      <th>geometry</th>\n",
       "    </tr>\n",
       "  </thead>\n",
       "  <tbody>\n",
       "    <tr>\n",
       "      <th>0</th>\n",
       "      <td>4.0</td>\n",
       "      <td>None</td>\n",
       "      <td>94071</td>\n",
       "      <td>0.027389</td>\n",
       "      <td>0.000015</td>\n",
       "      <td>CO</td>\n",
       "      <td>St. Vrain</td>\n",
       "      <td>2.675418</td>\n",
       "      <td>0.26807</td>\n",
       "      <td>10190005</td>\n",
       "      <td>MULTIPOLYGON (((-105.04900 39.96400, -105.0514...</td>\n",
       "    </tr>\n",
       "    <tr>\n",
       "      <th>1</th>\n",
       "      <td>4.0</td>\n",
       "      <td>None</td>\n",
       "      <td>94068</td>\n",
       "      <td>0.027154</td>\n",
       "      <td>0.000019</td>\n",
       "      <td>CO</td>\n",
       "      <td>St. Vrain</td>\n",
       "      <td>2.675418</td>\n",
       "      <td>0.26807</td>\n",
       "      <td>10190005</td>\n",
       "      <td>MULTIPOLYGON (((-105.03443 39.97085, -105.0350...</td>\n",
       "    </tr>\n",
       "    <tr>\n",
       "      <th>2</th>\n",
       "      <td>4.0</td>\n",
       "      <td>None</td>\n",
       "      <td>94068</td>\n",
       "      <td>0.009159</td>\n",
       "      <td>0.000004</td>\n",
       "      <td>CO</td>\n",
       "      <td>St. Vrain</td>\n",
       "      <td>2.675418</td>\n",
       "      <td>0.26807</td>\n",
       "      <td>10190005</td>\n",
       "      <td>POLYGON ((-105.04700 39.98820, -105.04700 39.9...</td>\n",
       "    </tr>\n",
       "    <tr>\n",
       "      <th>3</th>\n",
       "      <td>4.0</td>\n",
       "      <td>None</td>\n",
       "      <td>94089</td>\n",
       "      <td>0.014698</td>\n",
       "      <td>0.000010</td>\n",
       "      <td>CO</td>\n",
       "      <td>St. Vrain</td>\n",
       "      <td>2.675418</td>\n",
       "      <td>0.26807</td>\n",
       "      <td>10190005</td>\n",
       "      <td>POLYGON ((-105.04800 39.98810, -105.05180 39.9...</td>\n",
       "    </tr>\n",
       "    <tr>\n",
       "      <th>4</th>\n",
       "      <td>4.0</td>\n",
       "      <td>None</td>\n",
       "      <td>94071</td>\n",
       "      <td>0.011049</td>\n",
       "      <td>0.000005</td>\n",
       "      <td>CO</td>\n",
       "      <td>St. Vrain</td>\n",
       "      <td>2.675418</td>\n",
       "      <td>0.26807</td>\n",
       "      <td>10190005</td>\n",
       "      <td>POLYGON ((-105.04960 39.99430, -105.05240 39.9...</td>\n",
       "    </tr>\n",
       "    <tr>\n",
       "      <th>...</th>\n",
       "      <td>...</td>\n",
       "      <td>...</td>\n",
       "      <td>...</td>\n",
       "      <td>...</td>\n",
       "      <td>...</td>\n",
       "      <td>...</td>\n",
       "      <td>...</td>\n",
       "      <td>...</td>\n",
       "      <td>...</td>\n",
       "      <td>...</td>\n",
       "      <td>...</td>\n",
       "    </tr>\n",
       "    <tr>\n",
       "      <th>2068</th>\n",
       "      <td>3.0</td>\n",
       "      <td>None</td>\n",
       "      <td>512693</td>\n",
       "      <td>0.015302</td>\n",
       "      <td>0.000010</td>\n",
       "      <td>CO</td>\n",
       "      <td>St. Vrain</td>\n",
       "      <td>2.675418</td>\n",
       "      <td>0.26807</td>\n",
       "      <td>10190005</td>\n",
       "      <td>POLYGON ((-105.44690 39.87510, -105.44920 39.8...</td>\n",
       "    </tr>\n",
       "    <tr>\n",
       "      <th>2069</th>\n",
       "      <td>3.0</td>\n",
       "      <td>None</td>\n",
       "      <td>512693</td>\n",
       "      <td>0.010224</td>\n",
       "      <td>0.000005</td>\n",
       "      <td>CO</td>\n",
       "      <td>St. Vrain</td>\n",
       "      <td>2.675418</td>\n",
       "      <td>0.26807</td>\n",
       "      <td>10190005</td>\n",
       "      <td>POLYGON ((-105.48550 39.88660, -105.48440 39.8...</td>\n",
       "    </tr>\n",
       "    <tr>\n",
       "      <th>2070</th>\n",
       "      <td>3.0</td>\n",
       "      <td>None</td>\n",
       "      <td>512695</td>\n",
       "      <td>0.186889</td>\n",
       "      <td>0.000873</td>\n",
       "      <td>CO</td>\n",
       "      <td>St. Vrain</td>\n",
       "      <td>2.675418</td>\n",
       "      <td>0.26807</td>\n",
       "      <td>10190005</td>\n",
       "      <td>POLYGON ((-105.43249 39.86591, -105.43253 39.8...</td>\n",
       "    </tr>\n",
       "    <tr>\n",
       "      <th>2071</th>\n",
       "      <td>3.0</td>\n",
       "      <td>None</td>\n",
       "      <td>512694</td>\n",
       "      <td>0.145934</td>\n",
       "      <td>0.000334</td>\n",
       "      <td>CO</td>\n",
       "      <td>St. Vrain</td>\n",
       "      <td>2.675418</td>\n",
       "      <td>0.26807</td>\n",
       "      <td>10190005</td>\n",
       "      <td>MULTIPOLYGON (((-105.45550 39.88790, -105.4527...</td>\n",
       "    </tr>\n",
       "    <tr>\n",
       "      <th>2072</th>\n",
       "      <td>3.0</td>\n",
       "      <td>None</td>\n",
       "      <td>512706</td>\n",
       "      <td>0.037092</td>\n",
       "      <td>0.000053</td>\n",
       "      <td>CO</td>\n",
       "      <td>St. Vrain</td>\n",
       "      <td>2.675418</td>\n",
       "      <td>0.26807</td>\n",
       "      <td>10190005</td>\n",
       "      <td>POLYGON ((-105.47900 39.87150, -105.47770 39.8...</td>\n",
       "    </tr>\n",
       "  </tbody>\n",
       "</table>\n",
       "<p>2073 rows × 11 columns</p>\n",
       "</div>"
      ],
      "text/plain": [
       "      SPATIALVER MUSYM   MUKEY  Shape_Length_1  Shape_Area_1 STATES  \\\n",
       "0            4.0  None   94071        0.027389      0.000015     CO   \n",
       "1            4.0  None   94068        0.027154      0.000019     CO   \n",
       "2            4.0  None   94068        0.009159      0.000004     CO   \n",
       "3            4.0  None   94089        0.014698      0.000010     CO   \n",
       "4            4.0  None   94071        0.011049      0.000005     CO   \n",
       "...          ...   ...     ...             ...           ...    ...   \n",
       "2068         3.0  None  512693        0.015302      0.000010     CO   \n",
       "2069         3.0  None  512693        0.010224      0.000005     CO   \n",
       "2070         3.0  None  512695        0.186889      0.000873     CO   \n",
       "2071         3.0  None  512694        0.145934      0.000334     CO   \n",
       "2072         3.0  None  512706        0.037092      0.000053     CO   \n",
       "\n",
       "           NAME  Shape_Length_2  Shape_Area_2      HUC8  \\\n",
       "0     St. Vrain        2.675418       0.26807  10190005   \n",
       "1     St. Vrain        2.675418       0.26807  10190005   \n",
       "2     St. Vrain        2.675418       0.26807  10190005   \n",
       "3     St. Vrain        2.675418       0.26807  10190005   \n",
       "4     St. Vrain        2.675418       0.26807  10190005   \n",
       "...         ...             ...           ...       ...   \n",
       "2068  St. Vrain        2.675418       0.26807  10190005   \n",
       "2069  St. Vrain        2.675418       0.26807  10190005   \n",
       "2070  St. Vrain        2.675418       0.26807  10190005   \n",
       "2071  St. Vrain        2.675418       0.26807  10190005   \n",
       "2072  St. Vrain        2.675418       0.26807  10190005   \n",
       "\n",
       "                                               geometry  \n",
       "0     MULTIPOLYGON (((-105.04900 39.96400, -105.0514...  \n",
       "1     MULTIPOLYGON (((-105.03443 39.97085, -105.0350...  \n",
       "2     POLYGON ((-105.04700 39.98820, -105.04700 39.9...  \n",
       "3     POLYGON ((-105.04800 39.98810, -105.05180 39.9...  \n",
       "4     POLYGON ((-105.04960 39.99430, -105.05240 39.9...  \n",
       "...                                                 ...  \n",
       "2068  POLYGON ((-105.44690 39.87510, -105.44920 39.8...  \n",
       "2069  POLYGON ((-105.48550 39.88660, -105.48440 39.8...  \n",
       "2070  POLYGON ((-105.43249 39.86591, -105.43253 39.8...  \n",
       "2071  MULTIPOLYGON (((-105.45550 39.88790, -105.4527...  \n",
       "2072  POLYGON ((-105.47900 39.87150, -105.47770 39.8...  \n",
       "\n",
       "[2073 rows x 11 columns]"
      ]
     },
     "execution_count": 32,
     "metadata": {},
     "output_type": "execute_result"
    }
   ],
   "source": [
    "H2O2=newdf[newdf.NAME == 'St. Vrain']\n",
    "H2O2"
   ]
  },
  {
   "cell_type": "code",
   "execution_count": 33,
   "id": "bc3da900",
   "metadata": {},
   "outputs": [
    {
     "name": "stdout",
     "output_type": "stream",
     "text": [
      "There are\n",
      "1979\n",
      "features in the St. Vrain watershed, and\n",
      "2073\n",
      "features in the Big Thompson watershed.\n"
     ]
    }
   ],
   "source": [
    "print ('There are')\n",
    "print (H2O1.shape[0]) \n",
    "print ('features in the St. Vrain watershed, and') \n",
    "print (H2O2.shape[0])\n",
    "print ('features in the Big Thompson watershed.')"
   ]
  },
  {
   "cell_type": "code",
   "execution_count": null,
   "id": "72290802",
   "metadata": {},
   "outputs": [],
   "source": []
  },
  {
   "cell_type": "code",
   "execution_count": null,
   "id": "7ba990f6",
   "metadata": {},
   "outputs": [],
   "source": []
  },
  {
   "cell_type": "code",
   "execution_count": null,
   "id": "8262d14c",
   "metadata": {},
   "outputs": [],
   "source": []
  }
 ],
 "metadata": {
  "kernelspec": {
   "display_name": "Python 3 (ipykernel)",
   "language": "python",
   "name": "python3"
  },
  "language_info": {
   "codemirror_mode": {
    "name": "ipython",
    "version": 3
   },
   "file_extension": ".py",
   "mimetype": "text/x-python",
   "name": "python",
   "nbconvert_exporter": "python",
   "pygments_lexer": "ipython3",
   "version": "3.9.13"
  }
 },
 "nbformat": 4,
 "nbformat_minor": 5
}
