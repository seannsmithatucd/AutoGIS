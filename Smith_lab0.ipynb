{
 "cells": [
  {
   "cell_type": "code",
   "execution_count": 1,
   "id": "cc5df25f-5e32-4673-99f3-04934fd3c32e",
   "metadata": {},
   "outputs": [
    {
     "name": "stdout",
     "output_type": "stream",
     "text": [
      "roads.txt\n",
      "cities.txt\n",
      "counties.txt\n",
      "states.txt\n"
     ]
    }
   ],
   "source": [
    "collection = ['roads', 'cities', 'counties', 'states']\n",
    "y=('.txt')\n",
    "for x in collection:\n",
    "    print(x+y)"
   ]
  },
  {
   "cell_type": "code",
   "execution_count": 13,
   "id": "fdbd0b1c-d89b-48b3-9184-99423a32b2f8",
   "metadata": {},
   "outputs": [
    {
     "name": "stdout",
     "output_type": "stream",
     "text": [
      "The pi power that results in a value greater than 10,000 is: 9\n",
      "...with a final resulting value of: 29809.099\n"
     ]
    }
   ],
   "source": [
    "import math\n",
    "my_list = []\n",
    "\n",
    "z = 0\n",
    "y = 0\n",
    "while y < 10000:\n",
    "    my_list.append(z)\n",
    "    z = z+1\n",
    "    y = math.pow(math.pi, z)\n",
    "print('The pi power that results in a value greater than 10,000 is:', z)\n",
    "print('...with a final resulting value of:', round(y,3))"
   ]
  },
  {
   "cell_type": "code",
   "execution_count": 2,
   "id": "4fe5625b-3223-4212-b378-65b38171ff95",
   "metadata": {},
   "outputs": [
    {
     "name": "stdout",
     "output_type": "stream",
     "text": [
      "[1.474, 2.863, 2.959, 3.758, 4.49, 4.963, 5.128, 5.265, 5.822, 6.201, 7.033, 7.83]\n"
     ]
    }
   ],
   "source": [
    "lst = [\"1.474\", \"2.863\", \"2.959\", \"3.758\", \"4.490\", \"4.963\", \"5.128\", \"5.265\", \"5.822\", \"6.201\", \"7.033\", \"7.830\"]\n",
    "\n",
    "float_lst = [float(item) for item in lst]\n",
    "\n",
    "print(float_lst)"
   ]
  },
  {
   "cell_type": "code",
   "execution_count": null,
   "id": "3d56e739-b2ae-423a-8aa7-1858fa6b765e",
   "metadata": {},
   "outputs": [],
   "source": []
  }
 ],
 "metadata": {
  "kernelspec": {
   "display_name": "Python 3 (ipykernel)",
   "language": "python",
   "name": "python3"
  },
  "language_info": {
   "codemirror_mode": {
    "name": "ipython",
    "version": 3
   },
   "file_extension": ".py",
   "mimetype": "text/x-python",
   "name": "python",
   "nbconvert_exporter": "python",
   "pygments_lexer": "ipython3",
   "version": "3.7.13"
  }
 },
 "nbformat": 4,
 "nbformat_minor": 5
}
